{
 "cells": [
  {
   "cell_type": "markdown",
   "id": "7ba704a3-901e-4459-a76a-7328a417d132",
   "metadata": {},
   "source": [
    "# Data Science Tools and Ecosystem"
   ]
  },
  {
   "cell_type": "markdown",
   "id": "cec18489-2e96-44d5-9122-4cce59cb0e81",
   "metadata": {},
   "source": [
    "In this notebook, Data Science Tools and Ecosystem are summarized."
   ]
  },
  {
   "cell_type": "markdown",
   "id": "4ba279e2-32db-4109-ab8a-c9e04a46c934",
   "metadata": {},
   "source": [
    "**Objectives:**\n",
    "*  List popular labguages for Data Science\n",
    "*  List popular libraries used in Data Science\n",
    "*  Evaluate arithmetic expressions\n",
    "*  List popular Data Science Tools\n"
   ]
  },
  {
   "cell_type": "markdown",
   "id": "93bfb31c-afe1-4b10-aef4-606eeb5d797e",
   "metadata": {},
   "source": [
    "Some of the popular languages that Data Scientists use are:\n",
    "* Python\n",
    "* R\n",
    "* Java"
   ]
  },
  {
   "cell_type": "markdown",
   "id": "ee7c1bf4-b3e4-4ba1-9992-46ce8102efeb",
   "metadata": {},
   "source": [
    "Some of the commonly used libraries used by Data Scientists include:\n",
    "* Pandas\n",
    "* NumPy\n",
    "* Matplotlib"
   ]
  },
  {
   "cell_type": "markdown",
   "id": "8f2485e1-18f3-4820-8d66-1ca87271fa86",
   "metadata": {},
   "source": [
    "|Data Science Tools|\n",
    "------------------\n",
    "|Jupyter Notebooks|\n",
    "|RStudio|\n",
    "|Gitlab|"
   ]
  },
  {
   "cell_type": "markdown",
   "id": "26d99aa8-e7b1-4061-919a-558adecc7365",
   "metadata": {},
   "source": [
    "### Below are a few examples of evaluating arithmetic expressions in Python"
   ]
  },
  {
   "cell_type": "code",
   "execution_count": 4,
   "id": "d245ad4a-7c16-4df4-bd92-35c91e34bca1",
   "metadata": {},
   "outputs": [
    {
     "data": {
      "text/plain": [
       "17"
      ]
     },
     "execution_count": 4,
     "metadata": {},
     "output_type": "execute_result"
    }
   ],
   "source": [
    "#This a simple arithmetic expression to mutiply then add integers\n",
    "(3*4)+5"
   ]
  },
  {
   "cell_type": "code",
   "execution_count": 5,
   "id": "b496b3bb-fed5-4ca1-b10d-e5ea4dc64ec9",
   "metadata": {},
   "outputs": [
    {
     "data": {
      "text/plain": [
       "3.3333333333333335"
      ]
     },
     "execution_count": 5,
     "metadata": {},
     "output_type": "execute_result"
    }
   ],
   "source": [
    "#This will convert 200 minutes to hours by diving by 60\n",
    "200/60"
   ]
  },
  {
   "cell_type": "markdown",
   "id": "6e5099d0-9ba6-46f7-bd2f-6b992b0b0797",
   "metadata": {},
   "source": [
    "## Author\n",
    "Nitish Chawla"
   ]
  },
  {
   "cell_type": "code",
   "execution_count": null,
   "id": "885bf9a7-9956-4bd6-989a-26b91ce4e28b",
   "metadata": {},
   "outputs": [],
   "source": []
  }
 ],
 "metadata": {
  "kernelspec": {
   "display_name": "Python 3 (ipykernel)",
   "language": "python",
   "name": "python3"
  },
  "language_info": {
   "codemirror_mode": {
    "name": "ipython",
    "version": 3
   },
   "file_extension": ".py",
   "mimetype": "text/x-python",
   "name": "python",
   "nbconvert_exporter": "python",
   "pygments_lexer": "ipython3",
   "version": "3.11.7"
  }
 },
 "nbformat": 4,
 "nbformat_minor": 5
}
